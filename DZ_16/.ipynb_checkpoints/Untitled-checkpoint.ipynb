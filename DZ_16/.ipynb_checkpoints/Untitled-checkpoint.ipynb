{
 "cells": [
  {
   "cell_type": "code",
   "execution_count": 1,
   "metadata": {},
   "outputs": [],
   "source": [
    "import numpy as np"
   ]
  },
  {
   "cell_type": "code",
   "execution_count": 69,
   "metadata": {},
   "outputs": [
    {
     "name": "stdout",
     "output_type": "stream",
     "text": [
      "Играть не выгодно. Проигрыш: -1455 руб. c 10000 руб.\n"
     ]
    }
   ],
   "source": [
    "trials = 10000\n",
    "winning = []\n",
    "result = 0\n",
    "\n",
    "for i in range(trials):\n",
    "    random = np.random.randint(0, 1000)\n",
    "    if random == 777:\n",
    "        winning.append(200)\n",
    "    elif random == 999:\n",
    "        winning.append(100)\n",
    "    elif random == 555:\n",
    "        winning.append(50)\n",
    "    elif random == 333:\n",
    "        winning.append(15)\n",
    "    elif random == 555:\n",
    "        winning.append(50)\n",
    "    elif random == 111:\n",
    "        winning.append(50)\n",
    "    elif random % 100 == 77:\n",
    "        winning.append(5)\n",
    "    elif random % 10 == 7:\n",
    "        winning.append(3)\n",
    "    elif random % 100 == 0:\n",
    "        winning.append(2)\n",
    "    elif random % 10 == 0:\n",
    "        winning.append(1)\n",
    "    else:\n",
    "        None\n",
    "        result += 1\n",
    "\n",
    "total = sum(winning) - trials\n",
    "if total > 0:\n",
    "    print('Играть выгодно. Выигрыш:', total, 'руб. c', trials, 'руб.')\n",
    "else:\n",
    "    print('Играть не выгодно. Проигрыш:', total, 'руб. c', trials, 'руб.')"
   ]
  },
  {
   "cell_type": "code",
   "execution_count": 70,
   "metadata": {},
   "outputs": [
    {
     "name": "stdout",
     "output_type": "stream",
     "text": [
      "В сренем играть не вогодно. Проигрыш составляет: -881 руб. c 5000 руб.\n"
     ]
    }
   ],
   "source": [
    "games = 100\n",
    "profit = 0\n",
    "profit_list = []\n",
    "\n",
    "for x in range(games):\n",
    "    trials = 5000\n",
    "    result = 0\n",
    "    results_list = []\n",
    "    for i in range(trials):\n",
    "        random_score = np.random.randint(0, 1000)\n",
    "        if random_score == 999:\n",
    "            results_list.append(100)\n",
    "        elif random_score == 777:\n",
    "            results_list.append(200)\n",
    "        elif random_score == 555:\n",
    "            results_list.append(50)\n",
    "        elif random_score == 333:\n",
    "            results_list.append(15)\n",
    "        elif random_score == 111:\n",
    "            results_list.append(10)\n",
    "        elif random_score % 100 == 77:\n",
    "            results_list.append(5)\n",
    "        elif random_score % 10 == 7:\n",
    "            results_list.append(3)        \n",
    "        elif random_score % 100 == 0:\n",
    "            results_list.append(2)\n",
    "        elif random_score % 10 == 0:\n",
    "            results_list.append(1)\n",
    "        else:\n",
    "            results_list.append(0)\n",
    "            result += 1\n",
    "\n",
    "    profit = sum(results_list) - trials\n",
    "    profit_list.append(profit)\n",
    "    profit += 1\n",
    "avarage_profit = round(sum(profit_list) / games)\n",
    "if avarage_profit > 0:\n",
    "    print('В среднем играть вгодно. Выигрыш составляет:', avarage_profit, 'руб. c', trials, 'руб.')\n",
    "else:\n",
    "    print('В сренем играть не вогодно. Проигрыш составляет:', avarage_profit, 'руб. c', trials, 'руб.')"
   ]
  }
 ],
 "metadata": {
  "kernelspec": {
   "display_name": "Python 3",
   "language": "python",
   "name": "python3"
  },
  "language_info": {
   "codemirror_mode": {
    "name": "ipython",
    "version": 3
   },
   "file_extension": ".py",
   "mimetype": "text/x-python",
   "name": "python",
   "nbconvert_exporter": "python",
   "pygments_lexer": "ipython3",
   "version": "3.7.4"
  }
 },
 "nbformat": 4,
 "nbformat_minor": 2
}
