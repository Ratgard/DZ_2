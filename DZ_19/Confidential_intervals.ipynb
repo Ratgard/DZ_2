{
 "cells": [
  {
   "cell_type": "code",
   "execution_count": 1,
   "metadata": {
    "scrolled": true
   },
   "outputs": [],
   "source": [
    "import numpy as np\n",
    "import pandas as pd\n",
    "import scipy.stats # При работе со статистикой\n",
    "import matplotlib.pyplot as plt  # Библиотека для визуализации результатов "
   ]
  },
  {
   "cell_type": "markdown",
   "metadata": {},
   "source": [
    "<p style=\"align: center;\"><img align=center src=\"https://netology.ru/backend/tilda/images/tild3439-3364-4535-b334-656263633534__main.svg\"  width=900></p>\n",
    "<h3 style=\"text-align: center;\"><b>«Доверительные интервалы. Статистическая проверка гипотез для несвязанных выборок »</b></h3>\n"
   ]
  },
  {
   "cell_type": "code",
   "execution_count": 2,
   "metadata": {},
   "outputs": [],
   "source": [
    "#Вспомогательная функция для подсчета доверительного интервала\n",
    "\n",
    "def mean_confidence_interval(data, confidence=0.95):   \n",
    "    n = len(data)\n",
    "    m, se = np.mean(data), scipy.stats.sem(data)\n",
    "    h = se * scipy.stats.t.ppf((1 + confidence)/2, n)  #  функция ppf из scipy возвращает нам перцентиль\n",
    "    return m-h, m, m+h  #,h"
   ]
  },
  {
   "cell_type": "code",
   "execution_count": 3,
   "metadata": {},
   "outputs": [
    {
     "name": "stdout",
     "output_type": "stream",
     "text": [
      "(11.707786838827133, 12.391304347826088, 13.074821856825043)\n"
     ]
    }
   ],
   "source": [
    "a =  [5,7,7,9,10,16,7,14,13,15,16,15,\n",
    "     16,17,18,13,14,15,6,13, 14, 12 ,13 ]\n",
    "\n",
    "\n",
    "print(mean_confidence_interval(a, 0.60))\n",
    " "
   ]
  },
  {
   "cell_type": "code",
   "execution_count": null,
   "metadata": {},
   "outputs": [],
   "source": []
  },
  {
   "cell_type": "markdown",
   "metadata": {},
   "source": [
    "<h3 style=\"text-align: center;\"><b>Выборы в президенты или зачем нам доверительные интерваллы?!</b></h3>\n",
    "\n",
    "<p style=\"align: center;\"><img align=center src=\"https://www.englisch-hilfen.de/images/usa/states/map.gif\"  width=400></p>\n",
    "\n"
   ]
  },
  {
   "cell_type": "code",
   "execution_count": 4,
   "metadata": {},
   "outputs": [
    {
     "name": "stderr",
     "output_type": "stream",
     "text": [
      "D:\\ANACONDA\\lib\\site-packages\\IPython\\core\\interactiveshell.py:3326: FutureWarning: The error_bad_lines argument has been deprecated and will be removed in a future version.\n",
      "\n",
      "\n",
      "  exec(code_obj, self.user_global_ns, self.user_ns)\n"
     ]
    }
   ],
   "source": [
    "US_elect_county = 'https://raw.githubusercontent.com/a-milenkin/datasets_for_t-tests/main/2012_US_elect_county.csv'\n",
    " \n",
    "df = pd.read_csv(US_elect_county, sep=',',  error_bad_lines=False) # Откроем датасет\n",
    "\n",
    "\n",
    "df.dropna(how='any',inplace=True)  #Удалим пустые значения\n",
    "df=df[df['%']!='#DIV/0!'][['State Postal','County Name','%']] #Удалим мусор из данных и оставим только нужное\n",
    "df['%'] = df['%'].astype(float) # Приведем к численному значению результаты голосования"
   ]
  },
  {
   "cell_type": "code",
   "execution_count": 5,
   "metadata": {},
   "outputs": [
    {
     "name": "stdout",
     "output_type": "stream",
     "text": [
      "Среднее по всей выборке:  44.07946954813346\n"
     ]
    },
    {
     "data": {
      "image/png": "[encoded data removed]",
      "text/plain": [
       "<Figure size 432x288 with 1 Axes>"
      ]
     },
     "metadata": {
      "needs_background": "light"
     },
     "output_type": "display_data"
    }
   ],
   "source": [
    "df['%'].hist(bins=150)\n",
    "print('Среднее по всей выборке: ',df['%'].mean())"
   ]
  },
  {
   "cell_type": "code",
   "execution_count": 6,
   "metadata": {},
   "outputs": [
    {
     "data": {
      "text/plain": [
       "(42.025084908626724, 46.23478260869564, 50.444480308764554)"
      ]
     },
     "execution_count": 6,
     "metadata": {},
     "output_type": "execute_result"
    }
   ],
   "source": [
    "some_states_1 = ['AK','OH','WV','ME','CA','MD']\n",
    "some_states_2 = ['WA','AK','DE']\n",
    "some_states_3 = ['AZ','RI','MA']\n",
    "\n",
    "\n",
    "\n",
    "sub_df = df.loc[df['State Postal'].isin(some_states_2)]  # Выборка по нескольким штатам\n",
    "l,s,r=mean_confidence_interval(sub_df['%'], 0.990)\n",
    "l,s,r"
   ]
  },
  {
   "cell_type": "code",
   "execution_count": 7,
   "metadata": {},
   "outputs": [],
   "source": [
    "#df['State Postal'].value_counts()  Расскоментить, если интересно соотношение штатов. "
   ]
  },
  {
   "cell_type": "markdown",
   "metadata": {},
   "source": [
    "<p style=\"align: center;\"><img align=center src=\"https://encrypted-tbn0.gstatic.com/images?q=tbn:ANd9GcQM7ZUiNIwL4fZho5F7zqWpLBw-eL-Ttg0-UA&usqp=CAU\"  width=400></p>\n",
    " "
   ]
  },
  {
   "cell_type": "markdown",
   "metadata": {},
   "source": [
    "<div class=\"alert alert-info\">\n",
    "<b>Другой пример: </b>\n",
    "    \n",
    "Расмотрим такой случай. Допустим, вы журналист и оказались в 2016 году в предверии выборов президента в США и хотите по результатам своих исследований достаточно точно определить, кто победит на этих выборах. Сколько вам необходимо опросить людей, чтобы назвать будущего президента с точность в 95%???\n",
    "</div>"
   ]
  },
  {
   "cell_type": "markdown",
   "metadata": {},
   "source": [
    "<div class=\"alert alert-info\">\n",
    "    \n",
    "Результаты предшествующих исследований свидетельствуют, что стандартное отклонение генеральной совокупности приближенно равно 15. Таким образом, обозначим погрешность: $\\Delta$ = 5, Стандартное отклонение: $\\sigma$ = 15 и Z = 1,96\n",
    "\n",
    "</div>"
   ]
  },
  {
   "cell_type": "markdown",
   "metadata": {},
   "source": [
    "$$ n = (\\frac{Z*\\sigma}{\\Delta})^2$$\n",
    "- $\\Delta$ - допустимая ошибка/погрешность, \n",
    "\n",
    "- $\\sigma$ - стандартное отклонение, \n",
    "\n",
    "- Z - квантиль нормального распределения\n"
   ]
  },
  {
   "cell_type": "code",
   "execution_count": 8,
   "metadata": {},
   "outputs": [],
   "source": [
    "sigma = 15  # Стандартное отклонение\n",
    "Z = 1.96  # 95%   # Квантиль нормального распределения. \n",
    "Delta = 5 #%         #Погрешность"
   ]
  },
  {
   "cell_type": "code",
   "execution_count": 9,
   "metadata": {},
   "outputs": [
    {
     "data": {
      "text/plain": [
       "34.5744"
      ]
     },
     "execution_count": 9,
     "metadata": {},
     "output_type": "execute_result"
    }
   ],
   "source": [
    "N = ((sigma*Z)/Delta)**2\n",
    "N"
   ]
  },
  {
   "cell_type": "markdown",
   "metadata": {},
   "source": [
    "# Проверим разумность наших расуждений:"
   ]
  },
  {
   "cell_type": "code",
   "execution_count": 10,
   "metadata": {},
   "outputs": [
    {
     "name": "stdout",
     "output_type": "stream",
     "text": [
      "Стандартное отклонение:  15.742396788859033\n",
      "Среднее:  44.07946954813346\n"
     ]
    },
    {
     "data": {
      "text/plain": [
       "<matplotlib.axes._subplots.AxesSubplot at 0x1e526f1fdc8>"
      ]
     },
     "execution_count": 10,
     "metadata": {},
     "output_type": "execute_result"
    },
    {
     "data": {
      "image/png": "[encoded data removed]",
      "text/plain": [
       "<Figure size 432x288 with 1 Axes>"
      ]
     },
     "metadata": {
      "needs_background": "light"
     },
     "output_type": "display_data"
    }
   ],
   "source": [
    "df = df['%']\n",
    "print('Стандартное отклонение: ', df.std())\n",
    "print('Среднее: ', df.mean())\n",
    "df.hist(bins=80)"
   ]
  },
  {
   "cell_type": "code",
   "execution_count": 11,
   "metadata": {},
   "outputs": [
    {
     "name": "stdout",
     "output_type": "stream",
     "text": [
      "Среднее выборки:  42.61176470588234\n",
      "Среднее генеральной совокупности:  44.07946954813346\n",
      "37.61176470588234 47.61176470588234\n"
     ]
    }
   ],
   "source": [
    "MEAN = df.sample(n = int(N)).mean()  # Возьмем выборку из случайных n значений\n",
    "print('Среднее выборки: ', MEAN)\n",
    "print('Среднее генеральной совокупности: ', df.mean())\n",
    "print(MEAN-Delta, MEAN+Delta)"
   ]
  },
  {
   "cell_type": "code",
   "execution_count": null,
   "metadata": {},
   "outputs": [],
   "source": [
    " "
   ]
  },
  {
   "cell_type": "code",
   "execution_count": 12,
   "metadata": {},
   "outputs": [],
   "source": [
    "# from scipy.stats import norm\n",
    "# norm.ppf(0.95, loc=0, scale=1)\n"
   ]
  },
  {
   "cell_type": "code",
   "execution_count": null,
   "metadata": {},
   "outputs": [],
   "source": [
    " "
   ]
  },
  {
   "cell_type": "markdown",
   "metadata": {},
   "source": [
    "# Проверка гипотез с помощью Python. "
   ]
  },
  {
   "cell_type": "code",
   "execution_count": 13,
   "metadata": {},
   "outputs": [
    {
     "data": {
      "text/plain": [
       "Ttest_indResult(statistic=3.0258839844589733, pvalue=0.0025107075866209454)"
      ]
     },
     "execution_count": 13,
     "metadata": {},
     "output_type": "execute_result"
    }
   ],
   "source": [
    "from scipy import stats  # Импортируем библиотеку\n",
    "np.random.seed(21)  # Загрепим seed для воспроизводимости результата.\n",
    "\n",
    "# Генерируем случайное множество с нормальным распределением, где среднее = loc, а стандартное распределение = scale\n",
    "A = stats.norm.rvs(loc=50, scale=10, size=500)  \n",
    "B = stats.norm.rvs(loc=49, scale=10, size=1500)  \n",
    "stats.ttest_ind(A, B)"
   ]
  },
  {
   "cell_type": "code",
   "execution_count": 14,
   "metadata": {},
   "outputs": [],
   "source": [
    "# stats.ttest_ind(A, B, equal_var = False)"
   ]
  },
  {
   "cell_type": "markdown",
   "metadata": {},
   "source": [
    "Мы получаем хорошее значение p, равное 0,0026, и, таким образом, мы отклоняем нулевую гипотезу и, таким образом,\n",
    "это доказывает, что средние значения двух распределений различны и различие статистически значимо."
   ]
  },
  {
   "cell_type": "markdown",
   "metadata": {},
   "source": [
    "#### И действительно, если посмотреть на сгенерированные выборки. "
   ]
  },
  {
   "cell_type": "code",
   "execution_count": 15,
   "metadata": {},
   "outputs": [
    {
     "data": {
      "image/png": "[encoded data removed]",
      "text/plain": [
       "<Figure size 432x288 with 1 Axes>"
      ]
     },
     "metadata": {
      "needs_background": "light"
     },
     "output_type": "display_data"
    }
   ],
   "source": [
    "plt.hist(B, bins=25); #Выборка A\n",
    "plt.hist(A, bins=25);  #Выборка B"
   ]
  },
  {
   "cell_type": "code",
   "execution_count": null,
   "metadata": {},
   "outputs": [],
   "source": []
  },
  {
   "cell_type": "markdown",
   "metadata": {},
   "source": [
    "# Проверка гипотез"
   ]
  },
  {
   "cell_type": "markdown",
   "metadata": {},
   "source": [
    "### t-Тест Стьюдента"
   ]
  },
  {
   "cell_type": "code",
   "execution_count": 16,
   "metadata": {},
   "outputs": [
    {
     "name": "stdout",
     "output_type": "stream",
     "text": [
      "t = 12.348223942992178\n",
      "p = 2.395356067387906e-26\n"
     ]
    }
   ],
   "source": [
    "from scipy import stats\n",
    "np.random.seed(42)  # Загрепим seed для воспроизводимости результата.\n",
    "\n",
    "## Определим 2 случайных распределения\n",
    "N = 100  #Размер выборок\n",
    "\n",
    "\n",
    "b = np.random.randn(N) #Нормальное распределение с mean = 0 and var = 1\n",
    "a = np.random.randn(N) + 1.5 #Нормальное распределение с mean = 2 and var = 1\n",
    " \n",
    "### мы получаем хорошее значение p, равное 0,0005, и, таким образом, мы отклоняем нулевую гипотезу и, таким образом,\n",
    "### это доказывает, что средние значения двух распределений различны и различие статистически значимо.\n",
    " \n",
    "t , p  = stats.ttest_ind(a, b)\n",
    "print(\"t = \" + str(t))\n",
    "print(\"p = \" + str(p))\n",
    "\n",
    "# Большое значение t-score говорит нам, что группы отличаются\n",
    "# Маленькие значения t-score говорят нам, что группы схожи"
   ]
  },
  {
   "cell_type": "code",
   "execution_count": null,
   "metadata": {},
   "outputs": [],
   "source": []
  },
  {
   "cell_type": "code",
   "execution_count": 17,
   "metadata": {},
   "outputs": [
    {
     "data": {
      "image/png": "[encoded data removed]",
      "text/plain": [
       "<Figure size 432x288 with 1 Axes>"
      ]
     },
     "metadata": {
      "needs_background": "light"
     },
     "output_type": "display_data"
    }
   ],
   "source": [
    "plt.hist(a, bins=25); #Выборка a\n",
    "plt.hist(b, bins=25);  #Выборка b"
   ]
  },
  {
   "cell_type": "markdown",
   "metadata": {},
   "source": [
    "# a. Одновыборочный T-test (Выборка + ГС)"
   ]
  },
  {
   "cell_type": "markdown",
   "metadata": {},
   "source": [
    "<div class=\"alert alert-info\">\n",
    "<b>Описание: </b>\n",
    "Давайте попробуем это на одном образце. Тест покажет нам, отличаются ли средние значения выборки и генеральной совокупности (сравниваем с генеральной!). Рассмотрим количество голосующих в Индии и население всего Мира. Отличается ли средний возраст избирателей Индии от возраста населения? Сейчас выясним!\n",
    "</div>"
   ]
  },
  {
   "cell_type": "code",
   "execution_count": 18,
   "metadata": {},
   "outputs": [
    {
     "data": {
      "text/plain": [
       "18.04097903032585"
      ]
     },
     "execution_count": 18,
     "metadata": {},
     "output_type": "execute_result"
    }
   ],
   "source": [
    "import scipy.stats as stats\n",
    " \n",
    "\n",
    "population_ages1=stats.norm.rvs(loc=18, scale=45, size=150000)   \n",
    "population_ages2=stats.norm.rvs(loc=18, scale=10, size=100000)\n",
    "population_ages=np.concatenate((population_ages1,population_ages2))  # Сгенерировали всю популяцию. \n",
    "\n",
    "\n",
    "india_ages1=stats.norm.rvs(loc=18, scale=45, size=9000)  # Индия 1\n",
    "india_ages2=stats.norm.rvs(loc=18, scale=35, size=9000)\n",
    "india_ages=np.concatenate((india_ages1,india_ages2)) #Выборка\n",
    "population_ages.mean()\n"
   ]
  },
  {
   "cell_type": "code",
   "execution_count": 19,
   "metadata": {},
   "outputs": [
    {
     "data": {
      "text/plain": [
       "17.912805318044327"
      ]
     },
     "execution_count": 19,
     "metadata": {},
     "output_type": "execute_result"
    }
   ],
   "source": [
    "india_ages.mean()"
   ]
  },
  {
   "cell_type": "code",
   "execution_count": 20,
   "metadata": {},
   "outputs": [
    {
     "data": {
      "text/plain": [
       "Ttest_1sampResult(statistic=-0.42891365181458957, pvalue=0.6679911980738282)"
      ]
     },
     "execution_count": 20,
     "metadata": {},
     "output_type": "execute_result"
    }
   ],
   "source": [
    "stats.ttest_1samp(a=india_ages, popmean=population_ages.mean())"
   ]
  },
  {
   "cell_type": "markdown",
   "metadata": {},
   "source": [
    "**Теперь это значение `statistic=0.1197` говорит нам, насколько отклоняется выборочное среднее от нулевой гипотезы.**"
   ]
  },
  {
   "cell_type": "code",
   "execution_count": 21,
   "metadata": {},
   "outputs": [
    {
     "data": {
      "image/png": "[encoded data removed]",
      "text/plain": [
       "<Figure size 432x288 with 1 Axes>"
      ]
     },
     "metadata": {
      "needs_background": "light"
     },
     "output_type": "display_data"
    }
   ],
   "source": [
    "plt.hist(population_ages, bins=120); # Вся популяция.\n",
    "plt.hist(india_ages, bins=120);  # Выборка"
   ]
  },
  {
   "cell_type": "markdown",
   "metadata": {},
   "source": [
    "# b. Двух-выборочный T-test (Две выборки)"
   ]
  },
  {
   "cell_type": "markdown",
   "metadata": {},
   "source": [
    "<div class=\"alert alert-info\">\n",
    "<b>Описание: </b>\n",
    "Такой тест показывает, имеют ли две выборки данных разные средние значения (Теперь у нас две разные выборки, а не одна!). Здесь мы принимаем нулевую гипотезу о том, что обе группы имеют равные средние. Для этого нам не нужен известный параметр численности.\n",
    "</div>"
   ]
  },
  {
   "cell_type": "code",
   "execution_count": 22,
   "metadata": {},
   "outputs": [
    {
     "data": {
      "text/plain": [
       "16.93951973942959"
      ]
     },
     "execution_count": 22,
     "metadata": {},
     "output_type": "execute_result"
    }
   ],
   "source": [
    "np.random.seed(84)\n",
    "maharashtra_ages1=stats.norm.rvs(loc=17,scale=5,size=3000)\n",
    "maharashtra_ages2=stats.norm.rvs(loc=17,scale=15,size=2000)\n",
    " \n",
    "\n",
    "maharashtra_ages=np.concatenate((maharashtra_ages1,maharashtra_ages2))\n",
    "maharashtra_ages.mean()\n",
    " "
   ]
  },
  {
   "cell_type": "code",
   "execution_count": 23,
   "metadata": {},
   "outputs": [
    {
     "data": {
      "image/png": "[encoded data removed]",
      "text/plain": [
       "<Figure size 432x288 with 1 Axes>"
      ]
     },
     "metadata": {
      "needs_background": "light"
     },
     "output_type": "display_data"
    }
   ],
   "source": [
    "#Расскомментировать, если интересно увидеть отличия визуально\n",
    "plt.hist(maharashtra_ages, bins=120);\n",
    "plt.hist(maharashtra_ages2, bins=120);"
   ]
  },
  {
   "cell_type": "code",
   "execution_count": 24,
   "metadata": {},
   "outputs": [
    {
     "data": {
      "text/plain": [
       "Ttest_indResult(statistic=2.929306138816564, pvalue=0.003400545578247028)"
      ]
     },
     "execution_count": 24,
     "metadata": {},
     "output_type": "execute_result"
    }
   ],
   "source": [
    "stats.ttest_ind(a=india_ages, b=maharashtra_ages, equal_var=False)  # Смотри сюда!!! "
   ]
  },
  {
   "cell_type": "markdown",
   "metadata": {},
   "source": [
    "**Значение `pvalue= 0.0014` говорит о том, что существует вероятность 0.14%, что данные выборки настолько далеко друг от друга\n",
    "для двух одинаковых групп. Это меньше, чем уровень достоверности 5%.**"
   ]
  },
  {
   "cell_type": "code",
   "execution_count": 25,
   "metadata": {},
   "outputs": [],
   "source": [
    "#Расскомментировать, если интересно увидеть отличия визуально\n",
    "# plt.hist(india_ages, bins=120);\n",
    "# plt.hist(maharashtra_ages, bins=120);"
   ]
  },
  {
   "cell_type": "markdown",
   "metadata": {},
   "source": [
    "# c. Paired T-test (Сравнение зависимых)"
   ]
  },
  {
   "cell_type": "markdown",
   "metadata": {},
   "source": [
    "<div class=\"alert alert-info\">\n",
    "<b>Описание: </b>\n",
    "    \n",
    "T-критерий парной выборки, иногда называемый `t-критерием` зависимой выборки, представляет собой статистическую процедуру, используемую для определения того, равна ли нулю средняя разница между двумя наборами наблюдений. В парном выборочном `t-тесте` каждый субъект или объект измеряется дважды, в результате чего получаются пары наблюдений. Общие применения парного `t-критерия` выборки включают исследования случай-контроль или планы повторных измерений. \n",
    "\n",
    " Предположим, вас интересует оценка эффективности программы обучения компании. Один из подходов, который вы можете рассмотреть, - это измерение производительности выборки сотрудников до и после завершения программы и анализ различий с использованием парного выборочного `t-критерия`. \n",
    "</div>"
   ]
  },
  {
   "cell_type": "markdown",
   "metadata": {},
   "source": [
    " "
   ]
  },
  {
   "cell_type": "code",
   "execution_count": 26,
   "metadata": {},
   "outputs": [
    {
     "data": {
      "text/html": [
       "<div>\n",
       "<style scoped>\n",
       "    .dataframe tbody tr th:only-of-type {\n",
       "        vertical-align: middle;\n",
       "    }\n",
       "\n",
       "    .dataframe tbody tr th {\n",
       "        vertical-align: top;\n",
       "    }\n",
       "\n",
       "    .dataframe thead th {\n",
       "        text-align: right;\n",
       "    }\n",
       "</style>\n",
       "<table border=\"1\" class=\"dataframe\">\n",
       "  <thead>\n",
       "    <tr style=\"text-align: right;\">\n",
       "      <th></th>\n",
       "      <th>weight_before</th>\n",
       "      <th>weight_after</th>\n",
       "      <th>weight_change</th>\n",
       "    </tr>\n",
       "  </thead>\n",
       "  <tbody>\n",
       "    <tr>\n",
       "      <th>count</th>\n",
       "      <td>100.000000</td>\n",
       "      <td>100.000000</td>\n",
       "      <td>100.000000</td>\n",
       "    </tr>\n",
       "    <tr>\n",
       "      <th>mean</th>\n",
       "      <td>245.670775</td>\n",
       "      <td>244.316557</td>\n",
       "      <td>-1.354218</td>\n",
       "    </tr>\n",
       "    <tr>\n",
       "      <th>std</th>\n",
       "      <td>31.536594</td>\n",
       "      <td>31.351874</td>\n",
       "      <td>5.157803</td>\n",
       "    </tr>\n",
       "    <tr>\n",
       "      <th>min</th>\n",
       "      <td>155.577504</td>\n",
       "      <td>155.560250</td>\n",
       "      <td>-13.370467</td>\n",
       "    </tr>\n",
       "    <tr>\n",
       "      <th>25%</th>\n",
       "      <td>227.831705</td>\n",
       "      <td>224.927586</td>\n",
       "      <td>-5.204568</td>\n",
       "    </tr>\n",
       "    <tr>\n",
       "      <th>50%</th>\n",
       "      <td>246.688266</td>\n",
       "      <td>246.142588</td>\n",
       "      <td>-1.629565</td>\n",
       "    </tr>\n",
       "    <tr>\n",
       "      <th>75%</th>\n",
       "      <td>265.132293</td>\n",
       "      <td>261.730528</td>\n",
       "      <td>1.989948</td>\n",
       "    </tr>\n",
       "    <tr>\n",
       "      <th>max</th>\n",
       "      <td>336.154582</td>\n",
       "      <td>332.751176</td>\n",
       "      <td>14.935431</td>\n",
       "    </tr>\n",
       "  </tbody>\n",
       "</table>\n",
       "</div>"
      ],
      "text/plain": [
       "       weight_before  weight_after  weight_change\n",
       "count     100.000000    100.000000     100.000000\n",
       "mean      245.670775    244.316557      -1.354218\n",
       "std        31.536594     31.351874       5.157803\n",
       "min       155.577504    155.560250     -13.370467\n",
       "25%       227.831705    224.927586      -5.204568\n",
       "50%       246.688266    246.142588      -1.629565\n",
       "75%       265.132293    261.730528       1.989948\n",
       "max       336.154582    332.751176      14.935431"
      ]
     },
     "execution_count": 26,
     "metadata": {},
     "output_type": "execute_result"
    }
   ],
   "source": [
    "np.random.seed(12)\n",
    "before = stats.norm.rvs(scale = 30, loc = 250, size = 100)\n",
    "after = before + stats.norm.rvs(scale = 5, loc = -.273, size = 100)\n",
    "weight_df = pd.DataFrame({\"weight_before\":before,\n",
    "                         \"weight_after\":after,\n",
    "                         \"weight_change\":after-before})\n",
    "weight_df.describe()"
   ]
  },
  {
   "cell_type": "code",
   "execution_count": 48,
   "metadata": {},
   "outputs": [
    {
     "data": {
      "text/plain": [
       "Ttest_relResult(statistic=2.625571255881005, pvalue=0.01002290520917281)"
      ]
     },
     "execution_count": 48,
     "metadata": {},
     "output_type": "execute_result"
    }
   ],
   "source": [
    "stats.ttest_rel(a=before,b=after)"
   ]
  },
  {
   "cell_type": "markdown",
   "metadata": {},
   "source": [
    "**Итак, мы видим, что у нас есть только 1% шансов найти такие огромные различия между образцами.**"
   ]
  },
  {
   "cell_type": "markdown",
   "metadata": {},
   "source": [
    "# Практическое применение t-Тест Стьюдента"
   ]
  },
  {
   "cell_type": "markdown",
   "metadata": {},
   "source": [
    "<div class=\"alert alert-info\">\n",
    "<b>Задание: </b>\n",
    "    \n",
    "Представим, что вы следователь какой-то крупной рекламной компаннии. \n",
    "Ваша задача иследовать рыннок манго в течени последних нескольких лет.\n",
    "У вас уже есть предварительные данные. Ваши подчиненные решили схалтурить и принести вам совсем другие отчеты. \n",
    "\n",
    "Сможели ли вы их разоблачить с помощью t-Тест Стьюдента?\n",
    "</div>"
   ]
  },
  {
   "cell_type": "markdown",
   "metadata": {},
   "source": [
    "<p style=\"align: center;\"><img align=center src=\"https://www.canadianbusiness.com/wp-content/uploads/2012/02/6ed2b4b84defad6ff7b3b813f634.jpg\"  width=400></p>\n",
    "\n"
   ]
  },
  {
   "cell_type": "code",
   "execution_count": 56,
   "metadata": {},
   "outputs": [
    {
     "name": "stderr",
     "output_type": "stream",
     "text": [
      "D:\\ANACONDA\\lib\\site-packages\\IPython\\core\\interactiveshell.py:3326: FutureWarning: The error_bad_lines argument has been deprecated and will be removed in a future version.\n",
      "\n",
      "\n",
      "  exec(code_obj, self.user_global_ns, self.user_ns)\n"
     ]
    },
    {
     "data": {
      "text/plain": [
       "(-135.56983375430264, 0.0)"
      ]
     },
     "execution_count": 56,
     "metadata": {},
     "output_type": "execute_result"
    }
   ],
   "source": [
    "avocado = 'https://raw.githubusercontent.com/a-milenkin/datasets_for_t-tests/main/avocado.csv'\n",
    "Students = 'https://raw.githubusercontent.com/a-milenkin/datasets_for_t-tests/main/StudentsPerformance.csv'\n",
    "\n",
    "A = pd.read_csv(avocado, sep=',', index_col=0, error_bad_lines=False).AveragePrice[:1000]\n",
    "B = pd.read_csv(Students, sep=',', index_col=0, error_bad_lines=False)['math score']\n",
    "t, p = stats.ttest_ind(A, B)\n",
    "t, p"
   ]
  },
  {
   "cell_type": "code",
   "execution_count": 29,
   "metadata": {},
   "outputs": [
    {
     "data": {
      "image/png": "[encoded data removed]",
      "text/plain": [
       "<Figure size 432x288 with 1 Axes>"
      ]
     },
     "metadata": {
      "needs_background": "light"
     },
     "output_type": "display_data"
    }
   ],
   "source": [
    "#и действительно выборки пренадлежать разным распределениям\n",
    "\n",
    "plt.hist(B, bins=70);\n",
    "plt.hist(A, bins=70);"
   ]
  },
  {
   "cell_type": "code",
   "execution_count": null,
   "metadata": {},
   "outputs": [],
   "source": []
  },
  {
   "cell_type": "markdown",
   "metadata": {},
   "source": [
    "# $\\chi^{2}$ -  Критерий пирсона"
   ]
  },
  {
   "cell_type": "code",
   "execution_count": 30,
   "metadata": {},
   "outputs": [
    {
     "name": "stdout",
     "output_type": "stream",
     "text": [
      "Реальная таблица\n",
      "[[6 0]\n",
      " [1 3]]\n",
      "3.353174603174603 0.0670755382739151 1\n",
      "Ожидаемая таблица\n",
      "[[4.2 1.8]\n",
      " [2.8 1.2]]\n"
     ]
    }
   ],
   "source": [
    "import scipy as sps\n",
    "\n",
    "# Сгенерируем случайную матрицу 2х2\n",
    "X, y = np.random.randint(2, size=50).reshape(10, 5), np.random.randint(2, size=10) \n",
    "contingency_table = sps.sparse.coo_matrix( (np.ones_like(y), (X[:, 0], y)),    \n",
    "                                         shape=(np.unique(X[:, 0]).shape[0], \n",
    "                                                np.unique(y).shape[0])).A\n",
    "\n",
    "print('Реальная таблица')\n",
    "print(contingency_table)\n",
    "chi2, p, do,expected =  sps.stats.chi2_contingency(contingency_table)\n",
    "\n",
    "print(chi2, p, do)\n",
    "\n",
    "print('Ожидаемая таблица')\n",
    "print(expected)\n",
    "\n",
    "# Возвращает:\n",
    "# chi2 : Посчитанную статистику теста.\n",
    "# p :  p-value теста\n",
    "# dof : Степени свободы\n",
    "# expected : Ожидаемые частоты, основанные на предельных суммах таблицы."
   ]
  },
  {
   "cell_type": "markdown",
   "metadata": {},
   "source": [
    "**Пример использования Хи-квадрат теста**"
   ]
  },
  {
   "cell_type": "code",
   "execution_count": 31,
   "metadata": {},
   "outputs": [
    {
     "name": "stdout",
     "output_type": "stream",
     "text": [
      "[[10 20 30]\n",
      " [ 6  9 17]]\n",
      "stat=0.272, p=0.873\n",
      "Вероятно независимы\n"
     ]
    }
   ],
   "source": [
    "from scipy.stats import chi2_contingency\n",
    "\n",
    " \n",
    "table = [[10, 20, 30],[6,  9,  17]]\n",
    "print(np.array(table))\n",
    "stat, p, dof, expected = chi2_contingency(table)\n",
    "print('stat=%.3f, p=%.3f' % (stat, p))\n",
    "if p > 0.05:\n",
    "    print('Вероятно независимы')\n",
    "else:\n",
    "    print('Вероятно зависимы')"
   ]
  },
  {
   "cell_type": "code",
   "execution_count": 49,
   "metadata": {},
   "outputs": [
    {
     "data": {
      "text/html": [
       "<div>\n",
       "<style scoped>\n",
       "    .dataframe tbody tr th:only-of-type {\n",
       "        vertical-align: middle;\n",
       "    }\n",
       "\n",
       "    .dataframe tbody tr th {\n",
       "        vertical-align: top;\n",
       "    }\n",
       "\n",
       "    .dataframe thead th {\n",
       "        text-align: right;\n",
       "    }\n",
       "</style>\n",
       "<table border=\"1\" class=\"dataframe\">\n",
       "  <thead>\n",
       "    <tr style=\"text-align: right;\">\n",
       "      <th></th>\n",
       "      <th>Math SL AA</th>\n",
       "      <th>Math SL AI</th>\n",
       "      <th>Math HL</th>\n",
       "    </tr>\n",
       "  </thead>\n",
       "  <tbody>\n",
       "    <tr>\n",
       "      <th>Биология</th>\n",
       "      <td>25</td>\n",
       "      <td>46</td>\n",
       "      <td>15</td>\n",
       "    </tr>\n",
       "    <tr>\n",
       "      <th>Химия</th>\n",
       "      <td>15</td>\n",
       "      <td>44</td>\n",
       "      <td>15</td>\n",
       "    </tr>\n",
       "    <tr>\n",
       "      <th>Физика</th>\n",
       "      <td>10</td>\n",
       "      <td>10</td>\n",
       "      <td>20</td>\n",
       "    </tr>\n",
       "  </tbody>\n",
       "</table>\n",
       "</div>"
      ],
      "text/plain": [
       "          Math SL AA  Math SL AI  Math HL\n",
       "Биология          25          46       15\n",
       "Химия             15          44       15\n",
       "Физика            10          10       20"
      ]
     },
     "execution_count": 49,
     "metadata": {},
     "output_type": "execute_result"
    }
   ],
   "source": [
    "subjects = pd.DataFrame(\n",
    "    [\n",
    "        [25,46,15],\n",
    "        [15,44,15],\n",
    "        [10,10,20]\n",
    "    ],\n",
    "    index=['Биология','Химия','Физика'],\n",
    "    columns=['Math SL AA','Math SL AI','Math HL'])\n",
    "subjects"
   ]
  },
  {
   "cell_type": "markdown",
   "metadata": {},
   "source": [
    "**Если рассчитанный хи-квадрат больше критического значения, мы отклоняем нулевую гипотезу.**"
   ]
  },
  {
   "cell_type": "code",
   "execution_count": 50,
   "metadata": {},
   "outputs": [
    {
     "name": "stdout",
     "output_type": "stream",
     "text": [
      "p-value is:  0.0004176680832291999\n",
      "chi=20.392835, критическоре значение=9.487729\n",
      "\n",
      "На 0.05 уровене значимости, мы отвергаем нулевые гипотезы и принимаем H1.\n",
      "        Они не независимы.\n"
     ]
    }
   ],
   "source": [
    "chi, pval, dof, exp = scipy.stats.chi2_contingency(subjects) #  \n",
    "print('p-value is: ', pval)\n",
    "significance = 0.05\n",
    "p = 1 - significance\n",
    "critical_value = scipy.stats.chi2.ppf(p, dof)\n",
    "print('chi=%.6f, критическоре значение=%.6f\\n' % (chi, critical_value))\n",
    "\n",
    "\n",
    "\n",
    "if chi > critical_value:\n",
    "    print(\"\"\"На %.2f уровене значимости, мы отвергаем нулевые гипотезы и принимаем H1.\n",
    "        Они не независимы.\"\"\" % (significance))\n",
    "else:\n",
    "    print(\"\"\"На %.2f уровене значимости, мы принимаем нулевые гипотезы. \n",
    "        Они независимы.\"\"\" % (significance))"
   ]
  },
  {
   "cell_type": "markdown",
   "metadata": {},
   "source": [
    "**В качестве альтернативы мы можем сравнить p-значение и уровень значимости. Если значение p <уровня значимости, мы отклоняем нулевую гипотезу.**"
   ]
  },
  {
   "cell_type": "code",
   "execution_count": 51,
   "metadata": {},
   "outputs": [
    {
     "name": "stdout",
     "output_type": "stream",
     "text": [
      "p-value=0.000418, significance=0.05\n",
      "\n",
      "На 0.05 уровене значимости, мы отвергаем нулевые гипотезы и принимаем H1.\n",
      "            Они не независимы.\n"
     ]
    }
   ],
   "source": [
    "chi, pval, dof, exp = scipy.stats.chi2_contingency(subjects)\n",
    "significance = 0.05\n",
    "print('p-value=%.6f, significance=%.2f\\n' % (pval, significance))\n",
    "\n",
    "\n",
    "if pval < significance:\n",
    "    print(\"\"\"На %.2f уровене значимости, мы отвергаем нулевые гипотезы и принимаем H1.\n",
    "            Они не независимы.\"\"\" % (significance))\n",
    "else:\n",
    "    print(\"\"\"На %.2f уровене значимости, мы принимаем нулевые гипотезы.  \n",
    "            Они независимы.\"\"\" % (significance))"
   ]
  },
  {
   "cell_type": "markdown",
   "metadata": {},
   "source": [
    "# Точный критерий Фишера "
   ]
  },
  {
   "cell_type": "code",
   "execution_count": 52,
   "metadata": {},
   "outputs": [
    {
     "name": "stdout",
     "output_type": "stream",
     "text": [
      "[[107, 93], [74, 45]]\n"
     ]
    },
    {
     "data": {
      "text/plain": [
       "(0.6996512641673932, 0.1607594221528123)"
      ]
     },
     "execution_count": 52,
     "metadata": {},
     "output_type": "execute_result"
    }
   ],
   "source": [
    "import scipy as sp\n",
    "\n",
    "x = [[107,93],[74,45]]\n",
    "print(x)\n",
    "oddsratio, pvalue = sp.stats.fisher_exact(x)\n",
    "oddsratio, pvalue"
   ]
  },
  {
   "cell_type": "markdown",
   "metadata": {},
   "source": [
    "# Проанализируем теперь рынок жилья в New York City"
   ]
  },
  {
   "cell_type": "markdown",
   "metadata": {},
   "source": [
    "New York City Airbnb Open Data\n",
    "Airbnb listings and metrics in NYC, NY, USA (2019)"
   ]
  },
  {
   "cell_type": "markdown",
   "metadata": {},
   "source": [
    "<p style=\"align: center;\"><img align=center src=\"https://upload.wikimedia.org/wikipedia/commons/5/5a/New_York_City_District_Map.png\n",
    "\"  width=400></p>\n"
   ]
  },
  {
   "cell_type": "markdown",
   "metadata": {},
   "source": [
    "<div class=\"alert alert-info\">\n",
    "<b>Предостирежение: </b>\n",
    "    \n",
    "Для построения доверительного интервала с помощью метода, показанного выше, важно, чтобы распределение исследуемой выборки имело нормально распределение\n",
    "</div>"
   ]
  },
  {
   "cell_type": "code",
   "execution_count": 53,
   "metadata": {},
   "outputs": [
    {
     "name": "stderr",
     "output_type": "stream",
     "text": [
      "D:\\ANACONDA\\lib\\site-packages\\IPython\\core\\interactiveshell.py:3326: FutureWarning: The error_bad_lines argument has been deprecated and will be removed in a future version.\n",
      "\n",
      "\n",
      "  exec(code_obj, self.user_global_ns, self.user_ns)\n"
     ]
    },
    {
     "data": {
      "text/html": [
       "<div>\n",
       "<style scoped>\n",
       "    .dataframe tbody tr th:only-of-type {\n",
       "        vertical-align: middle;\n",
       "    }\n",
       "\n",
       "    .dataframe tbody tr th {\n",
       "        vertical-align: top;\n",
       "    }\n",
       "\n",
       "    .dataframe thead th {\n",
       "        text-align: right;\n",
       "    }\n",
       "</style>\n",
       "<table border=\"1\" class=\"dataframe\">\n",
       "  <thead>\n",
       "    <tr style=\"text-align: right;\">\n",
       "      <th></th>\n",
       "      <th>id</th>\n",
       "      <th>name</th>\n",
       "      <th>host_id</th>\n",
       "      <th>host_name</th>\n",
       "      <th>neighbourhood_group</th>\n",
       "      <th>neighbourhood</th>\n",
       "      <th>latitude</th>\n",
       "      <th>longitude</th>\n",
       "      <th>room_type</th>\n",
       "      <th>price</th>\n",
       "      <th>minimum_nights</th>\n",
       "      <th>number_of_reviews</th>\n",
       "      <th>last_review</th>\n",
       "      <th>reviews_per_month</th>\n",
       "      <th>calculated_host_listings_count</th>\n",
       "      <th>availability_365</th>\n",
       "    </tr>\n",
       "  </thead>\n",
       "  <tbody>\n",
       "    <tr>\n",
       "      <th>0</th>\n",
       "      <td>2539</td>\n",
       "      <td>Clean &amp; quiet apt home by the park</td>\n",
       "      <td>2787</td>\n",
       "      <td>John</td>\n",
       "      <td>Brooklyn</td>\n",
       "      <td>Kensington</td>\n",
       "      <td>40.64749</td>\n",
       "      <td>-73.97237</td>\n",
       "      <td>Private room</td>\n",
       "      <td>149</td>\n",
       "      <td>1</td>\n",
       "      <td>9</td>\n",
       "      <td>2018-10-19</td>\n",
       "      <td>0.21</td>\n",
       "      <td>6</td>\n",
       "      <td>365</td>\n",
       "    </tr>\n",
       "    <tr>\n",
       "      <th>1</th>\n",
       "      <td>2595</td>\n",
       "      <td>Skylit Midtown Castle</td>\n",
       "      <td>2845</td>\n",
       "      <td>Jennifer</td>\n",
       "      <td>Manhattan</td>\n",
       "      <td>Midtown</td>\n",
       "      <td>40.75362</td>\n",
       "      <td>-73.98377</td>\n",
       "      <td>Entire home/apt</td>\n",
       "      <td>225</td>\n",
       "      <td>1</td>\n",
       "      <td>45</td>\n",
       "      <td>2019-05-21</td>\n",
       "      <td>0.38</td>\n",
       "      <td>2</td>\n",
       "      <td>355</td>\n",
       "    </tr>\n",
       "    <tr>\n",
       "      <th>3</th>\n",
       "      <td>3831</td>\n",
       "      <td>Cozy Entire Floor of Brownstone</td>\n",
       "      <td>4869</td>\n",
       "      <td>LisaRoxanne</td>\n",
       "      <td>Brooklyn</td>\n",
       "      <td>Clinton Hill</td>\n",
       "      <td>40.68514</td>\n",
       "      <td>-73.95976</td>\n",
       "      <td>Entire home/apt</td>\n",
       "      <td>89</td>\n",
       "      <td>1</td>\n",
       "      <td>270</td>\n",
       "      <td>2019-07-05</td>\n",
       "      <td>4.64</td>\n",
       "      <td>1</td>\n",
       "      <td>194</td>\n",
       "    </tr>\n",
       "    <tr>\n",
       "      <th>4</th>\n",
       "      <td>5022</td>\n",
       "      <td>Entire Apt: Spacious Studio/Loft by central park</td>\n",
       "      <td>7192</td>\n",
       "      <td>Laura</td>\n",
       "      <td>Manhattan</td>\n",
       "      <td>East Harlem</td>\n",
       "      <td>40.79851</td>\n",
       "      <td>-73.94399</td>\n",
       "      <td>Entire home/apt</td>\n",
       "      <td>80</td>\n",
       "      <td>10</td>\n",
       "      <td>9</td>\n",
       "      <td>2018-11-19</td>\n",
       "      <td>0.10</td>\n",
       "      <td>1</td>\n",
       "      <td>0</td>\n",
       "    </tr>\n",
       "  </tbody>\n",
       "</table>\n",
       "</div>"
      ],
      "text/plain": [
       "     id                                              name  host_id  \\\n",
       "0  2539                Clean & quiet apt home by the park     2787   \n",
       "1  2595                             Skylit Midtown Castle     2845   \n",
       "3  3831                   Cozy Entire Floor of Brownstone     4869   \n",
       "4  5022  Entire Apt: Spacious Studio/Loft by central park     7192   \n",
       "\n",
       "     host_name neighbourhood_group neighbourhood  latitude  longitude  \\\n",
       "0         John            Brooklyn    Kensington  40.64749  -73.97237   \n",
       "1     Jennifer           Manhattan       Midtown  40.75362  -73.98377   \n",
       "3  LisaRoxanne            Brooklyn  Clinton Hill  40.68514  -73.95976   \n",
       "4        Laura           Manhattan   East Harlem  40.79851  -73.94399   \n",
       "\n",
       "         room_type  price  minimum_nights  number_of_reviews last_review  \\\n",
       "0     Private room    149               1                  9  2018-10-19   \n",
       "1  Entire home/apt    225               1                 45  2019-05-21   \n",
       "3  Entire home/apt     89               1                270  2019-07-05   \n",
       "4  Entire home/apt     80              10                  9  2018-11-19   \n",
       "\n",
       "   reviews_per_month  calculated_host_listings_count  availability_365  \n",
       "0               0.21                               6               365  \n",
       "1               0.38                               2               355  \n",
       "3               4.64                               1               194  \n",
       "4               0.10                               1                 0  "
      ]
     },
     "execution_count": 53,
     "metadata": {},
     "output_type": "execute_result"
    }
   ],
   "source": [
    "url  = 'https://raw.githubusercontent.com/a-milenkin/datasets_for_t-tests/main/AB_NYC_2019.csv'\n",
    "df = pd.read_csv(url, error_bad_lines=False)\n",
    "#df = pd.read_csv('AB_NYC_2019.csv')\n",
    "df.dropna(how='any',inplace=True)\n",
    "df.head(4)"
   ]
  },
  {
   "cell_type": "code",
   "execution_count": null,
   "metadata": {},
   "outputs": [],
   "source": []
  },
  {
   "cell_type": "code",
   "execution_count": 37,
   "metadata": {},
   "outputs": [],
   "source": [
    "# df.neighbourhood_group.hist()"
   ]
  },
  {
   "cell_type": "code",
   "execution_count": 38,
   "metadata": {},
   "outputs": [
    {
     "data": {
      "text/plain": [
       "<matplotlib.axes._subplots.AxesSubplot at 0x1e52a08e908>"
      ]
     },
     "execution_count": 38,
     "metadata": {},
     "output_type": "execute_result"
    },
    {
     "data": {
      "image/png": "[encoded data removed]",
      "text/plain": [
       "<Figure size 432x288 with 1 Axes>"
      ]
     },
     "metadata": {
      "needs_background": "light"
     },
     "output_type": "display_data"
    }
   ],
   "source": [
    "df[df.price<500].price.hist(bins=50)"
   ]
  },
  {
   "cell_type": "code",
   "execution_count": 39,
   "metadata": {},
   "outputs": [
    {
     "name": "stdout",
     "output_type": "stream",
     "text": [
      "122.56345677697612\n"
     ]
    },
    {
     "data": {
      "text/plain": [
       "(111.68856960410567, 115.49388042203987, 119.29919123997406)"
      ]
     },
     "execution_count": 39,
     "metadata": {},
     "output_type": "execute_result"
    }
   ],
   "source": [
    "print(df[df.price<400].price.mean())\n",
    "\n",
    "data = df[(df.neighbourhood_group == 'Brooklyn') | (df.neighbourhood_group=='Staten Island') | (df.neighbourhood_group=='Queens')].price\n",
    "\n",
    "mean_confidence_interval(data, confidence=0.999) # Возможно вам понадобиться эта функция."
   ]
  },
  {
   "cell_type": "code",
   "execution_count": null,
   "metadata": {},
   "outputs": [],
   "source": [
    " "
   ]
  },
  {
   "cell_type": "code",
   "execution_count": null,
   "metadata": {},
   "outputs": [],
   "source": []
  },
  {
   "cell_type": "markdown",
   "metadata": {},
   "source": [
    "# Задания для самостоятельного решения\n"
   ]
  },
  {
   "cell_type": "markdown",
   "metadata": {},
   "source": [
    "<div class=\"alert alert-info\">\n",
    "<b>Задание № 0</b>\n",
    "\n",
    "Найдите минимально необходимый объем выборки для построения интервальной оценки среднего.\n",
    "\n",
    "- желаемая точность $\\Delta$ = 3;\n",
    "- дисперсия $\\sigma^2$  = 225;\n",
    "- уровень доверия $\\beta$ = 0.95.\n",
    "</div>"
   ]
  },
  {
   "cell_type": "code",
   "execution_count": 57,
   "metadata": {},
   "outputs": [
    {
     "name": "stdout",
     "output_type": "stream",
     "text": [
      "Минимально необходимый объем выборки для построения интервальной оценки среднего: 96\n"
     ]
    }
   ],
   "source": [
    "### Ваши код/вычесления...\n",
    "\n",
    "import math\n",
    "import scipy.stats as st\n",
    "\n",
    "confidence_interval = 0.95\n",
    "significance_level = 1 - confidence_interval\n",
    "level = 1 - significance_level / 2\n",
    "disp = 225\n",
    "delta = 3\n",
    "n = round((st.norm.ppf(level) * math.sqrt(disp) / delta)**2)\n",
    "print('Минимально необходимый объем выборки для построения интервальной оценки среднего:', n)"
   ]
  },
  {
   "cell_type": "code",
   "execution_count": 60,
   "metadata": {},
   "outputs": [
    {
     "name": "stdout",
     "output_type": "stream",
     "text": [
      "Минимально необходимый объем выборки для построения интервальной оценки среднего: 96\n"
     ]
    }
   ],
   "source": [
    "def count_(confidence=0.95, disp=225, delta=3):\n",
    "    n = round((st.norm.ppf((1 + confidence) / 2) * math.sqrt(disp) / delta)**2)\n",
    "    return n\n",
    "print('Минимально необходимый объем выборки для построения интервальной оценки среднего:', \\\n",
    "      count_(confidence=0.95, disp=225, delta=3))"
   ]
  },
  {
   "cell_type": "code",
   "execution_count": 61,
   "metadata": {},
   "outputs": [
    {
     "name": "stdout",
     "output_type": "stream",
     "text": [
      "Минимально необходимый объем выборки для построения интервальной оценки среднего: 96\n"
     ]
    }
   ],
   "source": [
    "n = round((1.96 * math.sqrt(225) / 3)**2) \n",
    "print('Минимально необходимый объем выборки для построения интервальной оценки среднего:', n)"
   ]
  },
  {
   "cell_type": "code",
   "execution_count": null,
   "metadata": {},
   "outputs": [],
   "source": []
  },
  {
   "cell_type": "markdown",
   "metadata": {},
   "source": [
    "<div class=\"alert alert-info\">\n",
    "<b>Задание № 1</b>\n",
    "\n",
    "Постройте `98% доверительный интервал` для среднего значения, если известно, что\n",
    "\n",
    "- объем выборки n = 25;\n",
    "- среднее значение по выборке $\\overline x$ = 130;\n",
    "- Из достоверных источников известно стандартное отклонение $\\sigma = 12$.\n",
    "</div>"
   ]
  },
  {
   "cell_type": "code",
   "execution_count": 59,
   "metadata": {},
   "outputs": [
    {
     "name": "stdout",
     "output_type": "stream",
     "text": [
      "Длина полученного доверительного интервала: 14\n"
     ]
    }
   ],
   "source": [
    "### Ваш код...\n",
    "\n",
    "confidence_interval = 0.98\n",
    "significance_level = 1 - confidence_interval\n",
    "level = 1 - significance_level / 2\n",
    "count = 25\n",
    "std = 15\n",
    "average = 130\n",
    "L = round((average + std / math.sqrt(count) * st.norm.ppf(level)) - (average - std / math.sqrt(count) * st.norm.ppf(level)))\n",
    "print('Длина полученного доверительного интервала:', L)"
   ]
  },
  {
   "cell_type": "code",
   "execution_count": 65,
   "metadata": {},
   "outputs": [
    {
     "name": "stdout",
     "output_type": "stream",
     "text": [
      "Длина полученного доверительного интервала: 14\n"
     ]
    }
   ],
   "source": [
    "def confidence_interval(confidence=0.98, count=25, std=15, average=130):\n",
    "    L = round((average + std / math.sqrt(count) * st.norm.ppf(level)) - (average - std / math.sqrt(count) * st.norm.ppf(level)))\n",
    "    return L\n",
    "print('Длина полученного доверительного интервала:', confidence_interval(confidence=0.98, count=25, std=15, average=130))"
   ]
  },
  {
   "cell_type": "code",
   "execution_count": 66,
   "metadata": {},
   "outputs": [
    {
     "name": "stdout",
     "output_type": "stream",
     "text": [
      "Длина полученного доверительного интервала: 14\n"
     ]
    }
   ],
   "source": [
    "L = round((130 + 15 / math.sqrt(25) * st.norm.ppf(0.99)) - (130 - 15 / math.sqrt(25) * st.norm.ppf(0.99)))\n",
    "print('Длина полученного доверительного интервала:', L)"
   ]
  },
  {
   "cell_type": "code",
   "execution_count": null,
   "metadata": {},
   "outputs": [],
   "source": []
  },
  {
   "cell_type": "markdown",
   "metadata": {},
   "source": [
    "### 2. Вам даны две выборки роста мужчин и женщин. Докажите, используя t-Тест Стьдента, что различия между выборками незначительно, если уровень значимости равен 0.001"
   ]
  },
  {
   "cell_type": "markdown",
   "metadata": {},
   "source": [
    "<div class=\"alert alert-info\">\n",
    "<b>Задание № 2</b>\n",
    "\n",
    "Даны две выборки роста мужчин и женщин. \n",
    "- Докажите, используя `t-Тест Стьдента`, что различие между выборками незначительно, если уровень значимости равен $\\alpha$ `= 0.001`.\n",
    "- Покажите различия визуально\n",
    "</div>"
   ]
  },
  {
   "cell_type": "code",
   "execution_count": 68,
   "metadata": {},
   "outputs": [],
   "source": [
    "import scipy.stats as stats\n",
    "\n",
    "population_men  = stats.norm.rvs(loc=19, scale=171, size=11000000)  # Выборка мужчин со средним ростом 171\n",
    "population_women = stats.norm.rvs(loc=16, scale=165, size=12000)  # Выборка женщин со средним ростом 165\n",
    "\n",
    "### Ваш код...\n"
   ]
  },
  {
   "cell_type": "code",
   "execution_count": 69,
   "metadata": {},
   "outputs": [
    {
     "data": {
      "text/plain": [
       "(4.450420073241619, 8.570332487360827e-06)"
      ]
     },
     "execution_count": 69,
     "metadata": {},
     "output_type": "execute_result"
    }
   ],
   "source": [
    "t, p = stats.ttest_ind(population_men, population_women)\n",
    "t, p"
   ]
  },
  {
   "cell_type": "markdown",
   "metadata": {},
   "source": [
    "### 3. Определите объем необходимой выборки для исследования среднего чека за кофе в случайном городе, если известно, что в этом городе стандартное отклонение = 150, уровень доверия = 95%. Погрешность 50 рублей. "
   ]
  },
  {
   "cell_type": "markdown",
   "metadata": {},
   "source": [
    "<div class=\"alert alert-info\">\n",
    "<b>Задание № 3</b>\n",
    "\n",
    "Определите объем необходимой выборки для исследования среднего чека за кофе в случайном городе если известно, что в этом городе:\n",
    "\n",
    "- стандартное отклонение $\\sigma = 150$;\n",
    "- уровень доверия $\\beta$  = 95%;\n",
    "- Погрешность $\\Delta = 50$ рублей.\n",
    "</div>"
   ]
  },
  {
   "cell_type": "code",
   "execution_count": 70,
   "metadata": {},
   "outputs": [
    {
     "name": "stdout",
     "output_type": "stream",
     "text": [
      "Для исследования среднего чека за кофе в случайном городе необходимо 35 чеков\n"
     ]
    }
   ],
   "source": [
    "### Ваш код...\n",
    "\n",
    "confidence_interval = 0.95\n",
    "significance_level = 1 - confidence_interval\n",
    "level = 1 - significance_level / 2\n",
    "std = 150\n",
    "delta = 50\n",
    "n = round((st.norm.ppf(level) * std / delta)**2)\n",
    "print('Для исследования среднего чека за кофе в случайном городе необходимо', n, 'чеков')"
   ]
  },
  {
   "cell_type": "code",
   "execution_count": 71,
   "metadata": {},
   "outputs": [
    {
     "name": "stdout",
     "output_type": "stream",
     "text": [
      "Для исследования среднего чека за кофе в случайном городе необходимо 35 чеков\n"
     ]
    }
   ],
   "source": [
    "def check(confidence=0.95, std=150, delta=50):\n",
    "    n = round((st.norm.ppf((1 + confidence) / 2) * std / delta)**2)\n",
    "    return n\n",
    "print('Для исследования среднего чека за кофе в случайном городе необходимо', check(confidence=0.95, std=150, delta=50),\\\n",
    "      'чеков')"
   ]
  },
  {
   "cell_type": "code",
   "execution_count": 72,
   "metadata": {},
   "outputs": [
    {
     "name": "stdout",
     "output_type": "stream",
     "text": [
      "Для исследования среднего чека за кофе в случайном городе необходимо 35 чеков\n"
     ]
    }
   ],
   "source": [
    "n = round((st.norm.ppf(0.975) * 150 / 50)**2)\n",
    "print('Для исследования среднего чека за кофе в случайном городе необходимо', n, 'чеков')"
   ]
  },
  {
   "cell_type": "code",
   "execution_count": null,
   "metadata": {},
   "outputs": [],
   "source": []
  },
  {
   "cell_type": "code",
   "execution_count": null,
   "metadata": {},
   "outputs": [],
   "source": []
  },
  {
   "cell_type": "markdown",
   "metadata": {},
   "source": [
    "<div class=\"alert alert-info\">\n",
    "<b>Задание № 4</b>\n",
    "\n",
    "Представьте, что вы хотите разоблачить \"волшебника\" который считает, что умеет предсказывать погоду на завтра, отвечая просто: дождь или солнце. Вы пронаблюдали за ответами \"волшебника\" в течении какого-то периода времени и получили некие результаты (см.ниже).\n",
    "\n",
    "Можно ли сказать, что маг действительно умеет предсказывать погоду? Уровень значимости принять за `0.05` ($\\alpha=0.05$).\n",
    "</div>"
   ]
  },
  {
   "cell_type": "code",
   "execution_count": 44,
   "metadata": {},
   "outputs": [
    {
     "data": {
      "text/html": [
       "<div>\n",
       "<style scoped>\n",
       "    .dataframe tbody tr th:only-of-type {\n",
       "        vertical-align: middle;\n",
       "    }\n",
       "\n",
       "    .dataframe tbody tr th {\n",
       "        vertical-align: top;\n",
       "    }\n",
       "\n",
       "    .dataframe thead th {\n",
       "        text-align: right;\n",
       "    }\n",
       "</style>\n",
       "<table border=\"1\" class=\"dataframe\">\n",
       "  <thead>\n",
       "    <tr style=\"text-align: right;\">\n",
       "      <th></th>\n",
       "      <th>Ответ волшебника</th>\n",
       "      <th>Реальность</th>\n",
       "    </tr>\n",
       "  </thead>\n",
       "  <tbody>\n",
       "    <tr>\n",
       "      <th>Дождь</th>\n",
       "      <td>10</td>\n",
       "      <td>15</td>\n",
       "    </tr>\n",
       "    <tr>\n",
       "      <th>Солнце</th>\n",
       "      <td>39</td>\n",
       "      <td>34</td>\n",
       "    </tr>\n",
       "  </tbody>\n",
       "</table>\n",
       "</div>"
      ],
      "text/plain": [
       "        Ответ волшебника  Реальность\n",
       "Дождь                 10          15\n",
       "Солнце                39          34"
      ]
     },
     "execution_count": 44,
     "metadata": {},
     "output_type": "execute_result"
    }
   ],
   "source": [
    "observations = pd.DataFrame([[10,15],[39,34]],\n",
    "                            index=['Дождь','Солнце'],\n",
    "                            columns=['Ответ волшебника','Реальность'])\n",
    "observations"
   ]
  },
  {
   "cell_type": "code",
   "execution_count": 1,
   "metadata": {},
   "outputs": [],
   "source": [
    "import scipy.stats as stats\n",
    "\n",
    "oddsratio, pvalue = stats.fisher_exact('Тут должна быть ваша таблица, а не этот текст')#Возможно пригодится эта функция.\n",
    "\n",
    "### Ваш код..."
   ]
  },
  {
   "cell_type": "code",
   "execution_count": 73,
   "metadata": {},
   "outputs": [
    {
     "data": {
      "text/html": [
       "<div>\n",
       "<style scoped>\n",
       "    .dataframe tbody tr th:only-of-type {\n",
       "        vertical-align: middle;\n",
       "    }\n",
       "\n",
       "    .dataframe tbody tr th {\n",
       "        vertical-align: top;\n",
       "    }\n",
       "\n",
       "    .dataframe thead th {\n",
       "        text-align: right;\n",
       "    }\n",
       "</style>\n",
       "<table border=\"1\" class=\"dataframe\">\n",
       "  <thead>\n",
       "    <tr style=\"text-align: right;\">\n",
       "      <th></th>\n",
       "      <th>Ответ волшебника</th>\n",
       "      <th>Реальность</th>\n",
       "    </tr>\n",
       "  </thead>\n",
       "  <tbody>\n",
       "    <tr>\n",
       "      <th>Дождь</th>\n",
       "      <td>10</td>\n",
       "      <td>15</td>\n",
       "    </tr>\n",
       "    <tr>\n",
       "      <th>Солнце</th>\n",
       "      <td>39</td>\n",
       "      <td>34</td>\n",
       "    </tr>\n",
       "  </tbody>\n",
       "</table>\n",
       "</div>"
      ],
      "text/plain": [
       "        Ответ волшебника  Реальность\n",
       "Дождь                 10          15\n",
       "Солнце                39          34"
      ]
     },
     "execution_count": 73,
     "metadata": {},
     "output_type": "execute_result"
    }
   ],
   "source": [
    "observations = pd.DataFrame([[10,15],[39,34]],\n",
    "                            index=['Дождь','Солнце'],\n",
    "                            columns=['Ответ волшебника','Реальность'])\n",
    "observations"
   ]
  },
  {
   "cell_type": "markdown",
   "metadata": {},
   "source": [
    "<div class=\"alert alert-info\">\n",
    "<b>Задание № 5</b> \n",
    "\n",
    "Используя функцию mean_confidence_interval(data, confidence), постройте доверительный интервал с уровнем доверия $\\beta = 90\\%$ для выборки:\n",
    "\n",
    "</div>"
   ]
  },
  {
   "cell_type": "code",
   "execution_count": 75,
   "metadata": {},
   "outputs": [],
   "source": [
    "data = [4,5,8,9,6,7,5,6,7,8,5,6,7,0,9,8,4,6,\n",
    "        7,9,8,6,5,7,8,9,6,7,5,8,6,7,9,5,10]\n",
    "\n",
    "### Ваш код..."
   ]
  },
  {
   "cell_type": "code",
   "execution_count": 77,
   "metadata": {},
   "outputs": [
    {
     "name": "stdout",
     "output_type": "stream",
     "text": [
      "Доверительный интервал для выборки data: (6.54, 6.72)\n"
     ]
    }
   ],
   "source": [
    "def mean_confidence_interval(data, confidence=0.90):\n",
    "    average = np.mean(data)      \n",
    "    delta = stats.sem(data) * stats.norm.ppf((1 + confidence) / 2) / math.sqrt(len(data))\n",
    "    return round(average-delta, 2), round(average+delta, 2)\n",
    "\n",
    "print('Доверительный интервал для выборки data:', mean_confidence_interval(data, 0.90))"
   ]
  },
  {
   "cell_type": "code",
   "execution_count": 79,
   "metadata": {},
   "outputs": [
    {
     "name": "stdout",
     "output_type": "stream",
     "text": [
      "Доверительный интервал для выборки data: (6.54, 6.72)\n"
     ]
    }
   ],
   "source": [
    "data = [4,5,8,9,6,7,5,6,7,8,5,6,7,0,9,8,4,6,\n",
    "        7,9,8,6,5,7,8,9,6,7,5,8,6,7,9,5,10]\n",
    "\n",
    "def mean_confidence_interval(data, confidence=0.90):\n",
    "    count = len(data)\n",
    "    average = np.mean(data)\n",
    "    std = stats.sem(data)    \n",
    "    delta = std * stats.norm.ppf((1 + confidence) / 2) / math.sqrt(count)\n",
    "    return round(average-delta, 2), round(average+delta, 2)\n",
    "\n",
    "print('Доверительный интервал для выборки data:', mean_confidence_interval(data, 0.90))"
   ]
  },
  {
   "cell_type": "markdown",
   "metadata": {},
   "source": [
    "<div class=\"alert alert-info\">\n",
    "<b>Задание № 6</b>\n",
    "\n",
    "Принадлежат ли выборки data_1 и data_2 одному множеству? \n",
    "    \n",
    "- Оцените это с помощью известных вам тестов для проверок статистических гипотез;\n",
    "- Покажите различия визуально.\n",
    "</div>"
   ]
  },
  {
   "cell_type": "code",
   "execution_count": null,
   "metadata": {},
   "outputs": [],
   "source": [
    "data_1 = [4,5,8,9,6,7,5,6,7,8,5,6,7,0,9,8,4,\n",
    "          6,7,9,8,6,5,7,8,9,6,7,5,8,6,7,9,5,10]\n",
    "\n",
    "data_2 = [8,5,6,7,0,1,8,4,6,7,0,2,6,5,7,5,3,5,3,\n",
    "          5,3,5,5,8,7,6,4,5,3,5,4,6,4,5,3,2,6,4,\n",
    "          2,6,1,0,4,3,5,4,3,4,5,4,3,4,5,4,3,4,5,\n",
    "          3,4,4,1,2,4,3,1,2,4,3,2,1,5,3,4,6,4,5,\n",
    "          3,2,4,5,6,4,3,1,3,5,3,4,4,4,2,5,3]\n",
    "\n",
    "#Ваш код:"
   ]
  },
  {
   "cell_type": "markdown",
   "metadata": {},
   "source": [
    "<div class=\"alert alert-info\">\n",
    "<b>Задание № 7 (задание без подвоха)</b>\n",
    "\n",
    "На примере датасета про жилье в New York City, мы сталкивались с примером, когда переменная имеет не совсем нормальное распределение. \n",
    "\n",
    "- Предположим, Вы сформировали две гипотезы:\n",
    "    - нулевая гипотеза - распределение нормальное;\n",
    "    - альтернативная гипотеза - распределение ненормальное.\n",
    "- допустим, вы применили какой-то тест (сейчас неважно какой), который показал уровень значимости  `p-value = 0.03`. Каковы будут ваши выводы? Будем считать что у нас нормальное распределение или все-таки нет?)\n",
    "    \n",
    "</div>"
   ]
  },
  {
   "cell_type": "code",
   "execution_count": null,
   "metadata": {},
   "outputs": [],
   "source": [
    "### Ваши выводы:"
   ]
  },
  {
   "cell_type": "markdown",
   "metadata": {},
   "source": [
    "<div class=\"alert alert-info\">\n",
    "<b>Задание № 8</b>\n",
    "    \n",
    "Первая выборка — это пациенты, которых лечили препаратом `А`.  Вторая выборка — пациенты, которых лечили препаратом `B`.\n",
    "\n",
    "Значения в выборках — это некоторая характеристика эффективности лечения (уровень метаболита в крови, температура через три дня после начала лечения, срок выздоровления, число койко-дней, и т.д.) \n",
    "\n",
    "- Требуется выяснить, имеется ли значимое различие эффективности препаратов `А` и `B`, или различия являются чисто случайными и объясняются «естественной» дисперсией выбранной характеристики?  (`уровень значимости принять за 0.05 (5%)`)\n",
    "\n",
    "- При каком минимальном p-value различия были бы уже значимы? \n",
    "    \n",
    "- Если выборки незначительно отличаются, то продемонстрируйте это визуально\n",
    "</div>"
   ]
  },
  {
   "cell_type": "code",
   "execution_count": null,
   "metadata": {},
   "outputs": [],
   "source": []
  },
  {
   "cell_type": "code",
   "execution_count": 82,
   "metadata": {},
   "outputs": [],
   "source": [
    "np.random.seed(11)\n",
    "A = stats.norm.rvs(scale=50,loc=10,size=300)\n",
    "B = A+stats.norm.rvs(scale=10,loc=-7.5,size=300)\n",
    "\n",
    "### Ваш код:\n",
    "# Подсказка, обратите внимание на Two-sample T-test"
   ]
  },
  {
   "cell_type": "code",
   "execution_count": null,
   "metadata": {},
   "outputs": [],
   "source": [
    " "
   ]
  },
  {
   "cell_type": "code",
   "execution_count": null,
   "metadata": {},
   "outputs": [],
   "source": [
    " "
   ]
  },
  {
   "cell_type": "code",
   "execution_count": null,
   "metadata": {
    "scrolled": true
   },
   "outputs": [],
   "source": [
    " "
   ]
  },
  {
   "cell_type": "code",
   "execution_count": null,
   "metadata": {},
   "outputs": [],
   "source": []
  },
  {
   "cell_type": "code",
   "execution_count": null,
   "metadata": {},
   "outputs": [],
   "source": []
  },
  {
   "cell_type": "code",
   "execution_count": null,
   "metadata": {},
   "outputs": [],
   "source": []
  },
  {
   "cell_type": "code",
   "execution_count": null,
   "metadata": {},
   "outputs": [],
   "source": []
  }
 ],
 "metadata": {
  "kernelspec": {
   "display_name": "Python 3",
   "language": "python",
   "name": "python3"
  },
  "language_info": {
   "codemirror_mode": {
    "name": "ipython",
    "version": 3
   },
   "file_extension": ".py",
   "mimetype": "text/x-python",
   "name": "python",
   "nbconvert_exporter": "python",
   "pygments_lexer": "ipython3",
   "version": "3.7.4"
  }
 },
 "nbformat": 4,
 "nbformat_minor": 4
}
