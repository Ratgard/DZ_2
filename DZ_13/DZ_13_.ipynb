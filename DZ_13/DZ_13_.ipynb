{
 "cells": [
  {
   "cell_type": "code",
   "execution_count": 312,
   "metadata": {},
   "outputs": [],
   "source": [
    "import requests\n",
    "import time\n",
    "from bs4 import BeautifulSoup\n",
    "import pandas as pd"
   ]
  },
  {
   "cell_type": "markdown",
   "metadata": {},
   "source": [
    "ЗАДАНИЕ №1"
   ]
  },
  {
   "cell_type": "code",
   "execution_count": 313,
   "metadata": {},
   "outputs": [],
   "source": [
    "KEYWORDS = ['программирование', 'парсинг']"
   ]
  },
  {
   "cell_type": "code",
   "execution_count": 314,
   "metadata": {},
   "outputs": [],
   "source": [
    "req = requests.get('https://habr.com/ru/all/')\n",
    "soup = BeautifulSoup(req.text, 'html.parser')"
   ]
  },
  {
   "cell_type": "code",
   "execution_count": 315,
   "metadata": {},
   "outputs": [
    {
     "data": {
      "text/plain": [
       "20"
      ]
     },
     "execution_count": 315,
     "metadata": {},
     "output_type": "execute_result"
    }
   ],
   "source": [
    "posts = soup.find_all('article', class_='tm-articles-list__item')\n",
    "len(posts)"
   ]
  },
  {
   "cell_type": "code",
   "execution_count": 316,
   "metadata": {
    "scrolled": true
   },
   "outputs": [
    {
     "data": {
      "text/html": [
       "<div>\n",
       "<style scoped>\n",
       "    .dataframe tbody tr th:only-of-type {\n",
       "        vertical-align: middle;\n",
       "    }\n",
       "\n",
       "    .dataframe tbody tr th {\n",
       "        vertical-align: top;\n",
       "    }\n",
       "\n",
       "    .dataframe thead th {\n",
       "        text-align: right;\n",
       "    }\n",
       "</style>\n",
       "<table border=\"1\" class=\"dataframe\">\n",
       "  <thead>\n",
       "    <tr style=\"text-align: right;\">\n",
       "      <th></th>\n",
       "      <th>time</th>\n",
       "      <th>title</th>\n",
       "      <th>link</th>\n",
       "    </tr>\n",
       "  </thead>\n",
       "  <tbody>\n",
       "    <tr>\n",
       "      <td>0</td>\n",
       "      <td>сегодня в 11:12</td>\n",
       "      <td>«Мир Hi-Fi»: обсуждаем муз. программирование, ...</td>\n",
       "      <td>https://habr.com//ru/company/audiomania/blog/5...</td>\n",
       "    </tr>\n",
       "    <tr>\n",
       "      <td>1</td>\n",
       "      <td>сегодня в 10:13</td>\n",
       "      <td>Тестирование программного обеспечения для косм...</td>\n",
       "      <td>https://habr.com//ru/company/itelma/blog/575070/</td>\n",
       "    </tr>\n",
       "    <tr>\n",
       "      <td>2</td>\n",
       "      <td>вчера в 16:45</td>\n",
       "      <td>Задача выбора (назначения). Венгерский метод р...</td>\n",
       "      <td>https://habr.com//ru/post/574732/</td>\n",
       "    </tr>\n",
       "    <tr>\n",
       "      <td>3</td>\n",
       "      <td>вчера в 16:00</td>\n",
       "      <td>Проигрыватель мелодий из игры Monkey Island</td>\n",
       "      <td>https://habr.com//ru/company/ruvds/blog/574572/</td>\n",
       "    </tr>\n",
       "    <tr>\n",
       "      <td>4</td>\n",
       "      <td>вчера в 15:13</td>\n",
       "      <td>Библиотека СleanAPI: cоздаем микросервис на Py...</td>\n",
       "      <td>https://habr.com//ru/post/574998/</td>\n",
       "    </tr>\n",
       "  </tbody>\n",
       "</table>\n",
       "</div>"
      ],
      "text/plain": [
       "              time                                              title  \\\n",
       "0  сегодня в 11:12  «Мир Hi-Fi»: обсуждаем муз. программирование, ...   \n",
       "1  сегодня в 10:13  Тестирование программного обеспечения для косм...   \n",
       "2    вчера в 16:45  Задача выбора (назначения). Венгерский метод р...   \n",
       "3    вчера в 16:00        Проигрыватель мелодий из игры Monkey Island   \n",
       "4    вчера в 15:13  Библиотека СleanAPI: cоздаем микросервис на Py...   \n",
       "\n",
       "                                                link  \n",
       "0  https://habr.com//ru/company/audiomania/blog/5...  \n",
       "1   https://habr.com//ru/company/itelma/blog/575070/  \n",
       "2                  https://habr.com//ru/post/574732/  \n",
       "3    https://habr.com//ru/company/ruvds/blog/574572/  \n",
       "4                  https://habr.com//ru/post/574998/  "
      ]
     },
     "execution_count": 316,
     "metadata": {},
     "output_type": "execute_result"
    }
   ],
   "source": [
    "d = []\n",
    "for post in posts:\n",
    "    post_lower = post.text.lower()\n",
    "\n",
    "    if any([key in post_lower for key in KEYWORDS]):\n",
    "        title_h2 = post.find('h2', class_='tm-article-snippet__title tm-article-snippet__title_h2')\n",
    "        time = post.find('span', class_= 'tm-article-snippet__datetime-published')\n",
    "        link = title_h2.find('a')\n",
    "        link_2 = link.attrs.get('href')\n",
    "        link_all = 'https://habr.com/' + link_2\n",
    "        d.append({'time':time.text, 'title':title_h2.text, 'link':link_all})\n",
    "\n",
    "df = pd.DataFrame(d)\n",
    "df"
   ]
  },
  {
   "cell_type": "markdown",
   "metadata": {},
   "source": [
    "ЗАДАНИЕ №2"
   ]
  },
  {
   "cell_type": "code",
   "execution_count": 317,
   "metadata": {
    "scrolled": true
   },
   "outputs": [],
   "source": [
    "import json\n",
    "import datetime"
   ]
  },
  {
   "cell_type": "code",
   "execution_count": 333,
   "metadata": {
    "scrolled": true
   },
   "outputs": [],
   "source": [
    "URL = 'https://identityprotection.avast.com/v1/web/query/site-breaches/unauthorized-data'\n",
    "EMAIL = ['xxx@x.ru', 'yyy@y.com']\n",
    "email = {\n",
    "    'emailAddresses': EMAIL\n",
    "}\n",
    "\n",
    "header = {\n",
    "    'Vaar-Header-App-Build-Version': '1.0.0',\n",
    "    'Vaar-Header-App-Product-Name': 'hackcheck-web-avast',\n",
    "    'Vaar-Version': '0',\n",
    "    'Vaar-Header-App-Product': 'hackcheck-web-avast'\n",
    "}\n",
    "\n",
    "res = requests.post(URL, data = json.dumps(email), headers = header)\n",
    "#print(res.json())"
   ]
  },
  {
   "cell_type": "code",
   "execution_count": 319,
   "metadata": {},
   "outputs": [],
   "source": [
    "res_json = res.json()"
   ]
  },
  {
   "cell_type": "code",
   "execution_count": 335,
   "metadata": {
    "scrolled": false
   },
   "outputs": [
    {
     "name": "stdout",
     "output_type": "stream",
     "text": [
      "breaches\n",
      "18\n",
      "data\n",
      "18\n",
      "summary\n",
      "2\n"
     ]
    }
   ],
   "source": [
    "for i, k in res_json.items():\n",
    "    print(i)\n",
    "    print(len(k))"
   ]
  },
  {
   "cell_type": "code",
   "execution_count": 334,
   "metadata": {},
   "outputs": [
    {
     "data": {
      "text/html": [
       "<div>\n",
       "<style scoped>\n",
       "    .dataframe tbody tr th:only-of-type {\n",
       "        vertical-align: middle;\n",
       "    }\n",
       "\n",
       "    .dataframe tbody tr th {\n",
       "        vertical-align: top;\n",
       "    }\n",
       "\n",
       "    .dataframe thead th {\n",
       "        text-align: right;\n",
       "    }\n",
       "</style>\n",
       "<table border=\"1\" class=\"dataframe\">\n",
       "  <thead>\n",
       "    <tr style=\"text-align: right;\">\n",
       "      <th></th>\n",
       "      <th>Дата</th>\n",
       "      <th>Источник</th>\n",
       "      <th>Описание</th>\n",
       "    </tr>\n",
       "  </thead>\n",
       "  <tbody>\n",
       "    <tr>\n",
       "      <td>0</td>\n",
       "      <td>2016-10-21</td>\n",
       "      <td>forums.vkmonline.com</td>\n",
       "      <td>In 2012, online professional networking platfo...</td>\n",
       "    </tr>\n",
       "    <tr>\n",
       "      <td>1</td>\n",
       "      <td>2016-10-21</td>\n",
       "      <td>forums.vkmonline.com</td>\n",
       "      <td>In October of 2013, criminals penetrated Adobe...</td>\n",
       "    </tr>\n",
       "    <tr>\n",
       "      <td>2</td>\n",
       "      <td>2016-10-29</td>\n",
       "      <td>forums.vkmonline.com</td>\n",
       "      <td>Popular Russian social networking platform VKo...</td>\n",
       "    </tr>\n",
       "    <tr>\n",
       "      <td>3</td>\n",
       "      <td>2016-10-23</td>\n",
       "      <td>forums.vkmonline.com</td>\n",
       "      <td>In June 2016, a cache of over 51 million user ...</td>\n",
       "    </tr>\n",
       "    <tr>\n",
       "      <td>4</td>\n",
       "      <td>2016-10-24</td>\n",
       "      <td>forums.vkmonline.com</td>\n",
       "      <td>Cloud storage company Dropbox suffered a major...</td>\n",
       "    </tr>\n",
       "    <tr>\n",
       "      <td>5</td>\n",
       "      <td>2017-01-31</td>\n",
       "      <td>forums.vkmonline.com</td>\n",
       "      <td>In March 2016, CDProjektRed.com.com's forum da...</td>\n",
       "    </tr>\n",
       "    <tr>\n",
       "      <td>6</td>\n",
       "      <td>2017-02-14</td>\n",
       "      <td>forums.vkmonline.com</td>\n",
       "      <td>In July and August of 2016, two criminals carr...</td>\n",
       "    </tr>\n",
       "    <tr>\n",
       "      <td>7</td>\n",
       "      <td>2017-02-14</td>\n",
       "      <td>forums.vkmonline.com</td>\n",
       "      <td>In July and August 2016, two criminals execute...</td>\n",
       "    </tr>\n",
       "    <tr>\n",
       "      <td>8</td>\n",
       "      <td>2017-03-15</td>\n",
       "      <td>forums.vkmonline.com</td>\n",
       "      <td>In 2016, Global Reach Technology's database wa...</td>\n",
       "    </tr>\n",
       "    <tr>\n",
       "      <td>9</td>\n",
       "      <td>2017-03-01</td>\n",
       "      <td>forums.vkmonline.com</td>\n",
       "      <td>On an unconfirmed date, Chinese gossip site Ra...</td>\n",
       "    </tr>\n",
       "    <tr>\n",
       "      <td>10</td>\n",
       "      <td>2017-03-24</td>\n",
       "      <td>forums.vkmonline.com</td>\n",
       "      <td>Youku is a large Chinese video content company...</td>\n",
       "    </tr>\n",
       "    <tr>\n",
       "      <td>11</td>\n",
       "      <td>2017-11-04</td>\n",
       "      <td>forums.vkmonline.com</td>\n",
       "      <td>In October 2017, a customer database belonging...</td>\n",
       "    </tr>\n",
       "    <tr>\n",
       "      <td>12</td>\n",
       "      <td>2018-02-18</td>\n",
       "      <td>forums.vkmonline.com</td>\n",
       "      <td>Netlog (formerly known as Facebox and Bingbox)...</td>\n",
       "    </tr>\n",
       "    <tr>\n",
       "      <td>13</td>\n",
       "      <td>2019-06-13</td>\n",
       "      <td>forums.vkmonline.com</td>\n",
       "      <td>In May 2019, graphic-design site Canva's datab...</td>\n",
       "    </tr>\n",
       "    <tr>\n",
       "      <td>14</td>\n",
       "      <td>2019-10-17</td>\n",
       "      <td>forums.vkmonline.com</td>\n",
       "      <td>In September 2019, the game developer Zynga wa...</td>\n",
       "    </tr>\n",
       "    <tr>\n",
       "      <td>15</td>\n",
       "      <td>2020-01-03</td>\n",
       "      <td>forums.vkmonline.com</td>\n",
       "      <td>At an unconfirmed date, online Arizona newspap...</td>\n",
       "    </tr>\n",
       "    <tr>\n",
       "      <td>16</td>\n",
       "      <td>2020-05-28</td>\n",
       "      <td>forums.vkmonline.com</td>\n",
       "      <td>In January 2020, the online poll website Wishb...</td>\n",
       "    </tr>\n",
       "    <tr>\n",
       "      <td>17</td>\n",
       "      <td>2021-02-11</td>\n",
       "      <td>forums.vkmonline.com</td>\n",
       "      <td>At an unconfirmed date, the Russian-language m...</td>\n",
       "    </tr>\n",
       "  </tbody>\n",
       "</table>\n",
       "</div>"
      ],
      "text/plain": [
       "         Дата              Источник  \\\n",
       "0  2016-10-21  forums.vkmonline.com   \n",
       "1  2016-10-21  forums.vkmonline.com   \n",
       "2  2016-10-29  forums.vkmonline.com   \n",
       "3  2016-10-23  forums.vkmonline.com   \n",
       "4  2016-10-24  forums.vkmonline.com   \n",
       "5  2017-01-31  forums.vkmonline.com   \n",
       "6  2017-02-14  forums.vkmonline.com   \n",
       "7  2017-02-14  forums.vkmonline.com   \n",
       "8  2017-03-15  forums.vkmonline.com   \n",
       "9  2017-03-01  forums.vkmonline.com   \n",
       "10 2017-03-24  forums.vkmonline.com   \n",
       "11 2017-11-04  forums.vkmonline.com   \n",
       "12 2018-02-18  forums.vkmonline.com   \n",
       "13 2019-06-13  forums.vkmonline.com   \n",
       "14 2019-10-17  forums.vkmonline.com   \n",
       "15 2020-01-03  forums.vkmonline.com   \n",
       "16 2020-05-28  forums.vkmonline.com   \n",
       "17 2021-02-11  forums.vkmonline.com   \n",
       "\n",
       "                                             Описание  \n",
       "0   In 2012, online professional networking platfo...  \n",
       "1   In October of 2013, criminals penetrated Adobe...  \n",
       "2   Popular Russian social networking platform VKo...  \n",
       "3   In June 2016, a cache of over 51 million user ...  \n",
       "4   Cloud storage company Dropbox suffered a major...  \n",
       "5   In March 2016, CDProjektRed.com.com's forum da...  \n",
       "6   In July and August of 2016, two criminals carr...  \n",
       "7   In July and August 2016, two criminals execute...  \n",
       "8   In 2016, Global Reach Technology's database wa...  \n",
       "9   On an unconfirmed date, Chinese gossip site Ra...  \n",
       "10  Youku is a large Chinese video content company...  \n",
       "11  In October 2017, a customer database belonging...  \n",
       "12  Netlog (formerly known as Facebox and Bingbox)...  \n",
       "13  In May 2019, graphic-design site Canva's datab...  \n",
       "14  In September 2019, the game developer Zynga wa...  \n",
       "15  At an unconfirmed date, online Arizona newspap...  \n",
       "16  In January 2020, the online poll website Wishb...  \n",
       "17  At an unconfirmed date, the Russian-language m...  "
      ]
     },
     "execution_count": 334,
     "metadata": {},
     "output_type": "execute_result"
    }
   ],
   "source": [
    "from datetime import datetime\n",
    "\n",
    "table = []\n",
    "for i, k in res_json['breaches'].items():\n",
    "    #print(i)\n",
    "    #print(k)\n",
    "    site = res_json['breaches'][i]['site']\n",
    "    data = res_json['breaches'][i]['publishDate']\n",
    "    data_time = datetime.strptime(data, '%Y-%m-%dT%H:%M:%SZ')\n",
    "    description = res_json['breaches'][i]['description']\n",
    "    \n",
    "    #print(site)\n",
    "    #print(data_time)\n",
    "    #print(description)\n",
    "    \n",
    "    table.append({'Дата' : data_time, 'Источник' : url, 'Описание' : description})\n",
    "        \n",
    "data_ = pd.DataFrame(table)\n",
    "data_"
   ]
  }
 ],
 "metadata": {
  "kernelspec": {
   "display_name": "Python 3",
   "language": "python",
   "name": "python3"
  },
  "language_info": {
   "codemirror_mode": {
    "name": "ipython",
    "version": 3
   },
   "file_extension": ".py",
   "mimetype": "text/x-python",
   "name": "python",
   "nbconvert_exporter": "python",
   "pygments_lexer": "ipython3",
   "version": "3.7.4"
  }
 },
 "nbformat": 4,
 "nbformat_minor": 2
}
